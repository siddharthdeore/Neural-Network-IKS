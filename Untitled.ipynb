{
 "cells": [
  {
   "cell_type": "code",
   "execution_count": 1,
   "metadata": {},
   "outputs": [
    {
     "name": "stderr",
     "output_type": "stream",
     "text": [
      "Using TensorFlow backend.\n"
     ]
    }
   ],
   "source": [
    "import os\n",
    "import numpy as np\n",
    "import math\n",
    "import matplotlib.pyplot as plt\n",
    "\n",
    "from keras.models import Sequential\n",
    "from keras.layers import Dense\n",
    "from keras.models import load_model\n",
    "from keras.utils import plot_model\n",
    "\n",
    "dataset_train = np.loadtxt('preds.csv', delimiter=\",\")\n",
    "x_predict=dataset_train[:,:2]\n",
    "y_predict=dataset_train[:,2:]"
   ]
  },
  {
   "cell_type": "code",
   "execution_count": 2,
   "metadata": {},
   "outputs": [
    {
     "data": {
      "text/plain": [
       "array([[ 0.16513,  0.79554,  6.0611 ,  1.6026 ,  1.7272 ],\n",
       "       [ 0.16649,  0.69952,  6.0611 ,  1.6026 ,  1.8233 ],\n",
       "       [ 0.27041,  0.31393,  6.0611 ,  1.6026 ,  2.2253 ],\n",
       "       ...,\n",
       "       [ 2.8151 , -0.81463,  6.2547 ,  6.0501 ,  5.9891 ],\n",
       "       [ 2.7841 , -0.86161,  6.2547 ,  6.0501 ,  5.9328 ],\n",
       "       [ 2.9625 , -0.36568,  6.2547 ,  6.0501 ,  6.4661 ]])"
      ]
     },
     "execution_count": 2,
     "metadata": {},
     "output_type": "execute_result"
    }
   ],
   "source": [
    "dataset_train"
   ]
  },
  {
   "cell_type": "code",
   "execution_count": 3,
   "metadata": {},
   "outputs": [
    {
     "data": {
      "text/plain": [
       "array([[ 0.16513,  0.79554],\n",
       "       [ 0.16649,  0.69952],\n",
       "       [ 0.27041,  0.31393],\n",
       "       ...,\n",
       "       [ 2.8151 , -0.81463],\n",
       "       [ 2.7841 , -0.86161],\n",
       "       [ 2.9625 , -0.36568]])"
      ]
     },
     "execution_count": 3,
     "metadata": {},
     "output_type": "execute_result"
    }
   ],
   "source": [
    "x_predict"
   ]
  },
  {
   "cell_type": "code",
   "execution_count": 4,
   "metadata": {},
   "outputs": [
    {
     "data": {
      "text/plain": [
       "array([[6.0611, 1.6026, 1.7272],\n",
       "       [6.0611, 1.6026, 1.8233],\n",
       "       [6.0611, 1.6026, 2.2253],\n",
       "       ...,\n",
       "       [6.2547, 6.0501, 5.9891],\n",
       "       [6.2547, 6.0501, 5.9328],\n",
       "       [6.2547, 6.0501, 6.4661]])"
      ]
     },
     "execution_count": 4,
     "metadata": {},
     "output_type": "execute_result"
    }
   ],
   "source": [
    "y_predict"
   ]
  },
  {
   "cell_type": "code",
   "execution_count": 5,
   "metadata": {},
   "outputs": [
    {
     "name": "stderr",
     "output_type": "stream",
     "text": [
      "WARNING: Logging before flag parsing goes to stderr.\n",
      "W0823 19:24:21.152957  3776 deprecation_wrapper.py:119] From D:\\Anaconda3\\envs\\tensorflow_gpu\\lib\\site-packages\\keras\\backend\\tensorflow_backend.py:517: The name tf.placeholder is deprecated. Please use tf.compat.v1.placeholder instead.\n",
      "\n",
      "W0823 19:24:21.199835  3776 deprecation_wrapper.py:119] From D:\\Anaconda3\\envs\\tensorflow_gpu\\lib\\site-packages\\keras\\backend\\tensorflow_backend.py:4115: The name tf.random_normal is deprecated. Please use tf.random.normal instead.\n",
      "\n",
      "W0823 19:24:21.517982  3776 deprecation_wrapper.py:119] From D:\\Anaconda3\\envs\\tensorflow_gpu\\lib\\site-packages\\keras\\backend\\tensorflow_backend.py:174: The name tf.get_default_session is deprecated. Please use tf.compat.v1.get_default_session instead.\n",
      "\n",
      "W0823 19:24:21.519975  3776 deprecation_wrapper.py:119] From D:\\Anaconda3\\envs\\tensorflow_gpu\\lib\\site-packages\\keras\\backend\\tensorflow_backend.py:184: The name tf.ConfigProto is deprecated. Please use tf.compat.v1.ConfigProto instead.\n",
      "\n",
      "W0823 19:24:21.520973  3776 deprecation_wrapper.py:119] From D:\\Anaconda3\\envs\\tensorflow_gpu\\lib\\site-packages\\keras\\backend\\tensorflow_backend.py:186: The name tf.Session is deprecated. Please use tf.compat.v1.Session instead.\n",
      "\n",
      "W0823 19:24:25.237887  3776 deprecation_wrapper.py:119] From D:\\Anaconda3\\envs\\tensorflow_gpu\\lib\\site-packages\\keras\\optimizers.py:790: The name tf.train.Optimizer is deprecated. Please use tf.compat.v1.train.Optimizer instead.\n",
      "\n"
     ]
    }
   ],
   "source": [
    "\n",
    "# Load precompiled model\n",
    "model = load_model('model_s.h5')\n",
    "#model.summary()\n",
    "solution=model.predict(x_predict,verbose=2)"
   ]
  },
  {
   "cell_type": "code",
   "execution_count": 6,
   "metadata": {},
   "outputs": [
    {
     "data": {
      "text/plain": [
       "[<matplotlib.lines.Line2D at 0x2245a9800b8>]"
      ]
     },
     "execution_count": 6,
     "metadata": {},
     "output_type": "execute_result"
    },
    {
     "data": {
      "image/png": "[encoded data removed]",
      "text/plain": [
       "<Figure size 432x288 with 1 Axes>"
      ]
     },
     "metadata": {
      "needs_background": "light"
     },
     "output_type": "display_data"
    }
   ],
   "source": [
    "plt.plot(solution[:,0],'r-')\n",
    "plt.plot(y_predict[:,0])\n"
   ]
  },
  {
   "cell_type": "code",
   "execution_count": 7,
   "metadata": {},
   "outputs": [
    {
     "data": {
      "text/plain": [
       "array([[ 0.16513,  0.79554],\n",
       "       [ 0.16649,  0.69952],\n",
       "       [ 0.27041,  0.31393],\n",
       "       ...,\n",
       "       [ 2.8151 , -0.81463],\n",
       "       [ 2.7841 , -0.86161],\n",
       "       [ 2.9625 , -0.36568]])"
      ]
     },
     "execution_count": 7,
     "metadata": {},
     "output_type": "execute_result"
    }
   ],
   "source": [
    "x_predict"
   ]
  },
  {
   "cell_type": "code",
   "execution_count": 8,
   "metadata": {},
   "outputs": [
    {
     "data": {
      "text/plain": [
       "array([[6.0611, 1.6026, 1.7272],\n",
       "       [6.0611, 1.6026, 1.8233],\n",
       "       [6.0611, 1.6026, 2.2253],\n",
       "       ...,\n",
       "       [6.2547, 6.0501, 5.9891],\n",
       "       [6.2547, 6.0501, 5.9328],\n",
       "       [6.2547, 6.0501, 6.4661]])"
      ]
     },
     "execution_count": 8,
     "metadata": {},
     "output_type": "execute_result"
    }
   ],
   "source": [
    "y_predict"
   ]
  },
  {
   "cell_type": "code",
   "execution_count": 9,
   "metadata": {},
   "outputs": [
    {
     "data": {
      "text/plain": [
       "array([[2.4233487, 3.1051283, 3.0711439],\n",
       "       [2.4406855, 3.119581 , 3.0867217],\n",
       "       [2.4952884, 3.165102 , 3.135785 ],\n",
       "       ...,\n",
       "       [2.3134882, 3.0135698, 2.9724383],\n",
       "       [2.3268125, 3.0246773, 2.984411 ],\n",
       "       [2.2090008, 2.9264617, 2.8785498]], dtype=float32)"
      ]
     },
     "execution_count": 9,
     "metadata": {},
     "output_type": "execute_result"
    }
   ],
   "source": [
    "solution"
   ]
  },
  {
   "cell_type": "code",
   "execution_count": null,
   "metadata": {},
   "outputs": [],
   "source": [
    "def rotz(ang):\n",
    "    return np.array([[math.cos(ang),-math.sin(ang)],[math.sin(ang),math.cos(ang)]])"
   ]
  },
  {
   "cell_type": "code",
   "execution_count": null,
   "metadata": {},
   "outputs": [],
   "source": [
    "l=np.array([[1],[0]])"
   ]
  },
  {
   "cell_type": "code",
   "execution_count": null,
   "metadata": {},
   "outputs": [],
   "source": [
    "j1=np.matmul(rotz(180*math.pi/180),l)"
   ]
  },
  {
   "cell_type": "code",
   "execution_count": null,
   "metadata": {},
   "outputs": [],
   "source": [
    "def fk(q0,q1,q2):\n",
    "    l=np.array([[1],[0]])\n",
    "    j1=np.matmul(rotz(q0),l)\n",
    "    j2=j1+np.matmul(rotz(q0+q1),l)\n",
    "    ee=j2+np.matmul(rotz(q0+q1+q2),l)\n",
    "    return ee"
   ]
  },
  {
   "cell_type": "code",
   "execution_count": null,
   "metadata": {},
   "outputs": [],
   "source": [
    "for i in range(0,90,30):\n",
    "    for j in range(0,90,30):\n",
    "        for k in range(0,90,30):\n",
    "            q0=i*math.pi/180\n",
    "            q1=j*math.pi/180\n",
    "            q2=k*math.pi/180\n",
    "            ee=fk(q0,q1,q2)\n",
    "            ee=ee.reshape(1,2)\n",
    "            sol=model.predict(ee)\n",
    "            eet=fk(sol[0][0],sol[0][1],sol[0][2])\n",
    "            eet=eet.reshape(1,2)\n",
    "            print(ee[0][0]-eet[0][0],ee[0][1]-eet[0][1])\n"
   ]
  },
  {
   "cell_type": "code",
   "execution_count": null,
   "metadata": {},
   "outputs": [],
   "source": [
    "x=np.array([[0],[0]])\n",
    "y=x.reshape(1,2)\n",
    "print(x,y)\n",
    "Q=[]\n"
   ]
  },
  {
   "cell_type": "code",
   "execution_count": null,
   "metadata": {
    "scrolled": true
   },
   "outputs": [],
   "source": [
    "sol[0][0]"
   ]
  },
  {
   "cell_type": "code",
   "execution_count": null,
   "metadata": {},
   "outputs": [],
   "source": [
    "ee"
   ]
  },
  {
   "cell_type": "code",
   "execution_count": null,
   "metadata": {},
   "outputs": [],
   "source": [
    "eet"
   ]
  },
  {
   "cell_type": "code",
   "execution_count": null,
   "metadata": {},
   "outputs": [],
   "source": []
  }
 ],
 "metadata": {
  "kernelspec": {
   "display_name": "Python 3",
   "language": "python",
   "name": "python3"
  },
  "language_info": {
   "codemirror_mode": {
    "name": "ipython",
    "version": 3
   },
   "file_extension": ".py",
   "mimetype": "text/x-python",
   "name": "python",
   "nbconvert_exporter": "python",
   "pygments_lexer": "ipython3",
   "version": "3.6.9"
  }
 },
 "nbformat": 4,
 "nbformat_minor": 2
}
